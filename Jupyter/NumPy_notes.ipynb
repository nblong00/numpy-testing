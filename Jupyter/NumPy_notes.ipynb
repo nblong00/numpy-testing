{
 "cells": [
  {
   "cell_type": "markdown",
   "id": "68c94bce-9fc3-4c0e-9b6b-35e17cd0804a",
   "metadata": {},
   "source": [
    "# Introduction to NumPy\n",
    "NumPy Notes:"
   ]
  },
  {
   "cell_type": "code",
   "execution_count": 75,
   "id": "8bc95ed6-287a-43e9-88eb-4e949cbbe71f",
   "metadata": {},
   "outputs": [
    {
     "data": {
      "text/plain": [
       "'2.2.4'"
      ]
     },
     "execution_count": 75,
     "metadata": {},
     "output_type": "execute_result"
    }
   ],
   "source": [
    "import numpy as np\n",
    "np.__version__"
   ]
  },
  {
   "cell_type": "markdown",
   "id": "428c467b-d6f2-4d4a-886b-ac18a2c41c5b",
   "metadata": {},
   "source": [
    "## Differences between lists and NumPy arrays\n",
    "* Lists - add/delete items, mutable size, different data types\n",
    "* Arrays - immutable size, same data type, contiguous"
   ]
  },
  {
   "cell_type": "code",
   "execution_count": 76,
   "id": "3109d391-ecc3-429a-ba64-23fee7b44ef9",
   "metadata": {},
   "outputs": [],
   "source": [
    "gpas_as_list = [3.4, 3.2, 3.6]"
   ]
  },
  {
   "cell_type": "code",
   "execution_count": 77,
   "id": "ef43567e-dfda-4997-8138-ac29ad6a3499",
   "metadata": {},
   "outputs": [
    {
     "data": {
      "text/plain": [
       "'Whatevs'"
      ]
     },
     "execution_count": 77,
     "metadata": {},
     "output_type": "execute_result"
    }
   ],
   "source": [
    "# Can add elements to it\n",
    "gpas_as_list.append(4.0)\n",
    "# Can have multiple data types\n",
    "gpas_as_list.insert(1, \"Whatevs\")\n",
    "# Can have items removed\n",
    "gpas_as_list.pop(1)"
   ]
  },
  {
   "cell_type": "code",
   "execution_count": 78,
   "id": "79cb95f0-d6a4-47f5-bf65-f0b639c56677",
   "metadata": {},
   "outputs": [
    {
     "data": {
      "text/plain": [
       "[3.4, 3.2, 3.6, 4.0]"
      ]
     },
     "execution_count": 78,
     "metadata": {},
     "output_type": "execute_result"
    }
   ],
   "source": [
    "gpas_as_list"
   ]
  },
  {
   "cell_type": "code",
   "execution_count": 79,
   "id": "75c8f7c6-8b1e-4b96-ad55-98eaa490ba2b",
   "metadata": {},
   "outputs": [],
   "source": [
    "gpas = np.array(gpas_as_list)"
   ]
  },
  {
   "cell_type": "code",
   "execution_count": 80,
   "id": "47f4f0c4-4fca-4957-8f90-53380e6f3c0a",
   "metadata": {},
   "outputs": [
    {
     "data": {
      "text/plain": [
       "\u001b[31mType:\u001b[39m        ndarray\n",
       "\u001b[31mString form:\u001b[39m [3.4 3.2 3.6 4. ]\n",
       "\u001b[31mLength:\u001b[39m      4\n",
       "\u001b[31mFile:\u001b[39m        c:\\users\\blaise\\appdata\\local\\programs\\python\\python313\\lib\\site-packages\\numpy\\__init__.py\n",
       "\u001b[31mDocstring:\u001b[39m  \n",
       "ndarray(shape, dtype=float, buffer=None, offset=0,\n",
       "        strides=None, order=None)\n",
       "\n",
       "An array object represents a multidimensional, homogeneous array\n",
       "of fixed-size items.  An associated data-type object describes the\n",
       "format of each element in the array (its byte-order, how many bytes it\n",
       "occupies in memory, whether it is an integer, a floating point number,\n",
       "or something else, etc.)\n",
       "\n",
       "Arrays should be constructed using `array`, `zeros` or `empty` (refer\n",
       "to the See Also section below).  The parameters given here refer to\n",
       "a low-level method (`ndarray(...)`) for instantiating an array.\n",
       "\n",
       "For more information, refer to the `numpy` module and examine the\n",
       "methods and attributes of an array.\n",
       "\n",
       "Parameters\n",
       "----------\n",
       "(for the __new__ method; see Notes below)\n",
       "\n",
       "shape : tuple of ints\n",
       "    Shape of created array.\n",
       "dtype : data-type, optional\n",
       "    Any object that can be interpreted as a numpy data type.\n",
       "buffer : object exposing buffer interface, optional\n",
       "    Used to fill the array with data.\n",
       "offset : int, optional\n",
       "    Offset of array data in buffer.\n",
       "strides : tuple of ints, optional\n",
       "    Strides of data in memory.\n",
       "order : {'C', 'F'}, optional\n",
       "    Row-major (C-style) or column-major (Fortran-style) order.\n",
       "\n",
       "Attributes\n",
       "----------\n",
       "T : ndarray\n",
       "    Transpose of the array.\n",
       "data : buffer\n",
       "    The array's elements, in memory.\n",
       "dtype : dtype object\n",
       "    Describes the format of the elements in the array.\n",
       "flags : dict\n",
       "    Dictionary containing information related to memory use, e.g.,\n",
       "    'C_CONTIGUOUS', 'OWNDATA', 'WRITEABLE', etc.\n",
       "flat : numpy.flatiter object\n",
       "    Flattened version of the array as an iterator.  The iterator\n",
       "    allows assignments, e.g., ``x.flat = 3`` (See `ndarray.flat` for\n",
       "    assignment examples; TODO).\n",
       "imag : ndarray\n",
       "    Imaginary part of the array.\n",
       "real : ndarray\n",
       "    Real part of the array.\n",
       "size : int\n",
       "    Number of elements in the array.\n",
       "itemsize : int\n",
       "    The memory use of each array element in bytes.\n",
       "nbytes : int\n",
       "    The total number of bytes required to store the array data,\n",
       "    i.e., ``itemsize * size``.\n",
       "ndim : int\n",
       "    The array's number of dimensions.\n",
       "shape : tuple of ints\n",
       "    Shape of the array.\n",
       "strides : tuple of ints\n",
       "    The step-size required to move from one element to the next in\n",
       "    memory. For example, a contiguous ``(3, 4)`` array of type\n",
       "    ``int16`` in C-order has strides ``(8, 2)``.  This implies that\n",
       "    to move from element to element in memory requires jumps of 2 bytes.\n",
       "    To move from row-to-row, one needs to jump 8 bytes at a time\n",
       "    (``2 * 4``).\n",
       "ctypes : ctypes object\n",
       "    Class containing properties of the array needed for interaction\n",
       "    with ctypes.\n",
       "base : ndarray\n",
       "    If the array is a view into another array, that array is its `base`\n",
       "    (unless that array is also a view).  The `base` array is where the\n",
       "    array data is actually stored.\n",
       "\n",
       "See Also\n",
       "--------\n",
       "array : Construct an array.\n",
       "zeros : Create an array, each element of which is zero.\n",
       "empty : Create an array, but leave its allocated memory unchanged (i.e.,\n",
       "        it contains \"garbage\").\n",
       "dtype : Create a data-type.\n",
       "numpy.typing.NDArray : An ndarray alias :term:`generic <generic type>`\n",
       "                       w.r.t. its `dtype.type <numpy.dtype.type>`.\n",
       "\n",
       "Notes\n",
       "-----\n",
       "There are two modes of creating an array using ``__new__``:\n",
       "\n",
       "1. If `buffer` is None, then only `shape`, `dtype`, and `order`\n",
       "   are used.\n",
       "2. If `buffer` is an object exposing the buffer interface, then\n",
       "   all keywords are interpreted.\n",
       "\n",
       "No ``__init__`` method is needed because the array is fully initialized\n",
       "after the ``__new__`` method.\n",
       "\n",
       "Examples\n",
       "--------\n",
       "These examples illustrate the low-level `ndarray` constructor.  Refer\n",
       "to the `See Also` section above for easier ways of constructing an\n",
       "ndarray.\n",
       "\n",
       "First mode, `buffer` is None:\n",
       "\n",
       ">>> import numpy as np\n",
       ">>> np.ndarray(shape=(2,2), dtype=float, order='F')\n",
       "array([[0.0e+000, 0.0e+000], # random\n",
       "       [     nan, 2.5e-323]])\n",
       "\n",
       "Second mode:\n",
       "\n",
       ">>> np.ndarray((2,), buffer=np.array([1,2,3]),\n",
       "...            offset=np.int_().itemsize,\n",
       "...            dtype=int) # offset = 1*itemsize, i.e. skip first element\n",
       "array([2, 3])"
      ]
     },
     "metadata": {},
     "output_type": "display_data"
    }
   ],
   "source": [
    "?gpas"
   ]
  },
  {
   "cell_type": "code",
   "execution_count": 81,
   "id": "2cfc58cf-bbc1-41d3-be82-25e29e484537",
   "metadata": {},
   "outputs": [
    {
     "data": {
      "text/plain": [
       "dtype('float64')"
      ]
     },
     "execution_count": 81,
     "metadata": {},
     "output_type": "execute_result"
    }
   ],
   "source": [
    "gpas.dtype"
   ]
  },
  {
   "cell_type": "code",
   "execution_count": 82,
   "id": "d8c21520-9411-45ec-ac13-f9cd9d0ff898",
   "metadata": {},
   "outputs": [
    {
     "data": {
      "text/plain": [
       "8"
      ]
     },
     "execution_count": 82,
     "metadata": {},
     "output_type": "execute_result"
    }
   ],
   "source": [
    "gpas.itemsize"
   ]
  },
  {
   "cell_type": "code",
   "execution_count": 83,
   "id": "6d19c5a2-ed52-47b0-a0fe-69051b5d3559",
   "metadata": {},
   "outputs": [
    {
     "data": {
      "text/plain": [
       "4"
      ]
     },
     "execution_count": 83,
     "metadata": {},
     "output_type": "execute_result"
    }
   ],
   "source": [
    "gpas.size"
   ]
  },
  {
   "cell_type": "code",
   "execution_count": 84,
   "id": "1fd8e066-0a1a-4af2-bbc0-0af2681f6ec5",
   "metadata": {},
   "outputs": [
    {
     "data": {
      "text/plain": [
       "4"
      ]
     },
     "execution_count": 84,
     "metadata": {},
     "output_type": "execute_result"
    }
   ],
   "source": [
    "len(gpas)"
   ]
  },
  {
   "cell_type": "code",
   "execution_count": 85,
   "id": "87a7d7bc-517a-4876-9c65-8c9aef30eaec",
   "metadata": {},
   "outputs": [
    {
     "data": {
      "text/plain": [
       "32"
      ]
     },
     "execution_count": 85,
     "metadata": {},
     "output_type": "execute_result"
    }
   ],
   "source": [
    "gpas.nbytes"
   ]
  },
  {
   "cell_type": "markdown",
   "id": "a03b2b99-f228-4b94-a0f1-a184148ec652",
   "metadata": {},
   "source": [
    "## Multidimensional arrays\n",
    "* Keep in mind [floating point precision](https://numpy.org/doc/stable/user/basics.types.html#extended-precision) if adding floats from array\n",
    "* Data structure is called `ndarray`, representing any **n**umber of **d**imensions\n",
    "* Arrays can have multiple dimensions, you declare them on creation\n",
    "* Dimensions help define what each element in the array represents.  A two dimensional array is just an array of arrays\n",
    "* **Rank** defines how many dimensions an array contains \n",
    "* **Shape** defines the length of each of the array's dimensions\n",
    "* Each dimension is also referred to as an **axis**, and they are zero-indexed. Multiples are called **axes**\n",
    "* A 2d array is AKA **matrix**"
   ]
  },
  {
   "cell_type": "code",
   "execution_count": 86,
   "id": "133766a2-89cf-48cf-b6e9-f50b4ac5dfa7",
   "metadata": {},
   "outputs": [
    {
     "data": {
      "text/plain": [
       "array([[3.4, 3.2, 3.6, 4. ],\n",
       "       [3.2, 3.8, 4. , 4. ],\n",
       "       [1.2, 2.4, 3.5, 3.8]], dtype=float16)"
      ]
     },
     "execution_count": 86,
     "metadata": {},
     "output_type": "execute_result"
    }
   ],
   "source": [
    "student_gpas = np.array([\n",
    "    [3.4, 3.2, 3.6, 4.0],\n",
    "    [3.2, 3.8, 4.0, 4.0],\n",
    "    [1.2, 2.4, 3.5, 3.8]\n",
    "], np.float16)\n",
    "student_gpas"
   ]
  },
  {
   "cell_type": "code",
   "execution_count": 87,
   "id": "c0422a89-e9aa-4f96-992a-59a722b3eca5",
   "metadata": {},
   "outputs": [
    {
     "data": {
      "text/plain": [
       "2"
      ]
     },
     "execution_count": 87,
     "metadata": {},
     "output_type": "execute_result"
    }
   ],
   "source": [
    "student_gpas.ndim"
   ]
  },
  {
   "cell_type": "code",
   "execution_count": 88,
   "id": "805b32fb-13a4-4a59-b9cb-b633659c02c3",
   "metadata": {},
   "outputs": [
    {
     "data": {
      "text/plain": [
       "(3, 4)"
      ]
     },
     "execution_count": 88,
     "metadata": {},
     "output_type": "execute_result"
    }
   ],
   "source": [
    "student_gpas.shape"
   ]
  },
  {
   "cell_type": "code",
   "execution_count": 89,
   "id": "fc84eb7e-17f0-4f02-b5cf-b021e9d48b55",
   "metadata": {},
   "outputs": [
    {
     "data": {
      "text/plain": [
       "12"
      ]
     },
     "execution_count": 89,
     "metadata": {},
     "output_type": "execute_result"
    }
   ],
   "source": [
    "student_gpas.size"
   ]
  },
  {
   "cell_type": "code",
   "execution_count": 90,
   "id": "83c3a484-5d71-4df5-8b72-363645e29f7a",
   "metadata": {},
   "outputs": [
    {
     "data": {
      "text/plain": [
       "3"
      ]
     },
     "execution_count": 90,
     "metadata": {},
     "output_type": "execute_result"
    }
   ],
   "source": [
    "len(student_gpas)"
   ]
  },
  {
   "cell_type": "code",
   "execution_count": 91,
   "id": "4f41f990-2637-4c43-a41f-8c4527326e93",
   "metadata": {},
   "outputs": [
    {
     "data": {
      "text/plain": [
       "2"
      ]
     },
     "execution_count": 91,
     "metadata": {},
     "output_type": "execute_result"
    }
   ],
   "source": [
    "student_gpas.itemsize"
   ]
  },
  {
   "cell_type": "code",
   "execution_count": 92,
   "id": "636db72b-b161-49c1-bf8c-b1c33cfbc36a",
   "metadata": {},
   "outputs": [
    {
     "data": {
      "text/plain": [
       "24"
      ]
     },
     "execution_count": 92,
     "metadata": {},
     "output_type": "execute_result"
    }
   ],
   "source": [
    "student_gpas.itemsize * student_gpas.size"
   ]
  },
  {
   "cell_type": "code",
   "execution_count": 93,
   "id": "e615a844-b714-428f-a013-fc2d1a8b0d09",
   "metadata": {},
   "outputs": [
    {
     "name": "stdout",
     "output_type": "stream",
     "text": [
      "Variable        Type       Data/Info\n",
      "------------------------------------\n",
      "fake_log        ndarray    7: 7 elems, type `uint16`, 14 bytes\n",
      "gpas            ndarray    4: 4 elems, type `float64`, 32 bytes\n",
      "index           ndarray    2x2: 4 elems, type `int64`, 32 bytes\n",
      "not_copied      ndarray    7x6: 42 elems, type `int64`, 336 bytes\n",
      "orders          ndarray    4x4: 16 elems, type `int64`, 128 bytes\n",
      "practice        ndarray    7x6: 42 elems, type `int64`, 336 bytes\n",
      "practice_view   ndarray    3x14: 42 elems, type `int64`, 336 bytes\n",
      "prices          ndarray    4: 4 elems, type `float64`, 32 bytes\n",
      "student_gpas    ndarray    3x4: 12 elems, type `float16`, 24 bytes\n",
      "study_minutes   ndarray    3x7: 21 elems, type `uint16`, 42 bytes\n",
      "totals          ndarray    4: 4 elems, type `float64`, 32 bytes\n"
     ]
    }
   ],
   "source": [
    "%whos ndarray"
   ]
  },
  {
   "cell_type": "code",
   "execution_count": 94,
   "id": "246f6130-7e82-4e1b-8da5-deaec0481775",
   "metadata": {
    "scrolled": true
   },
   "outputs": [
    {
     "name": "stdout",
     "output_type": "stream",
     "text": [
      "class:  ndarray\n",
      "shape:  (3, 4)\n",
      "strides:  (8, 2)\n",
      "itemsize:  2\n",
      "aligned:  True\n",
      "contiguous:  True\n",
      "fortran:  False\n",
      "data pointer: 0x1c09a9e33c0\n",
      "byteorder:  little\n",
      "byteswap:  False\n",
      "type: float16\n"
     ]
    }
   ],
   "source": [
    "np.info(student_gpas)"
   ]
  },
  {
   "cell_type": "code",
   "execution_count": 95,
   "id": "5362ccf6-4a20-4564-81dd-dcfd8a8781cb",
   "metadata": {},
   "outputs": [
    {
     "data": {
      "text/plain": [
       "array([1.2, 2.4, 3.5, 3.8], dtype=float16)"
      ]
     },
     "execution_count": 95,
     "metadata": {},
     "output_type": "execute_result"
    }
   ],
   "source": [
    "student_gpas[2]"
   ]
  },
  {
   "cell_type": "code",
   "execution_count": 96,
   "id": "4d2b6ddc-5ca6-475b-9de5-d4ea756912a9",
   "metadata": {},
   "outputs": [
    {
     "data": {
      "text/plain": [
       "np.float16(3.8)"
      ]
     },
     "execution_count": 96,
     "metadata": {},
     "output_type": "execute_result"
    }
   ],
   "source": [
    "student_gpas[2][3]"
   ]
  },
  {
   "cell_type": "markdown",
   "id": "b1d04888-881a-45ff-b67d-b947adffe798",
   "metadata": {},
   "source": [
    "## About data types\n",
    "* [data types](https://docs.scipy.org/doc/numpy-1.14.0/user/basics.types.html) are here\n",
    "* Data types are maintained by wrapping values in a [scalar representation](https://numpy.org/doc/stable/reference/arrays.scalars.html)\n",
    "* np.zeros is a good way to create an array of zeros and specify data type"
   ]
  },
  {
   "cell_type": "code",
   "execution_count": 97,
   "id": "3765c5f6-1f0a-42b7-a9d9-32fad3abd299",
   "metadata": {},
   "outputs": [
    {
     "data": {
      "text/plain": [
       "array([0, 0, 0, 0, 0, 0, 0], dtype=uint16)"
      ]
     },
     "execution_count": 97,
     "metadata": {},
     "output_type": "execute_result"
    }
   ],
   "source": [
    "study_minutes = np.zeros(7, np.uint16)\n",
    "study_minutes"
   ]
  },
  {
   "cell_type": "code",
   "execution_count": 98,
   "id": "f8a1bbaa-f8f6-4e36-a175-5c4f4d883909",
   "metadata": {},
   "outputs": [
    {
     "name": "stdout",
     "output_type": "stream",
     "text": [
      "Variable             Type           Data/Info\n",
      "---------------------------------------------\n",
      "copied               list           n=4\n",
      "fake_log             ndarray        7: 7 elems, type `uint16`, 14 bytes\n",
      "first_day_minutes    uint16         Shape: ()\n",
      "fruit                list           n=4\n",
      "gpas                 ndarray        4: 4 elems, type `float64`, 32 bytes\n",
      "gpas_as_list         list           n=4\n",
      "index                ndarray        2x2: 4 elems, type `int64`, 32 bytes\n",
      "not_copied           ndarray        7x6: 42 elems, type `int64`, 336 bytes\n",
      "np                   module         Shape: <function shape at 0x000001C0C2451F80>\n",
      "orders               ndarray        4x4: 16 elems, type `int64`, 128 bytes\n",
      "practice             ndarray        7x6: 42 elems, type `int64`, 336 bytes\n",
      "practice_view        ndarray        3x14: 42 elems, type `int64`, 336 bytes\n",
      "prices               ndarray        4: 4 elems, type `float64`, 32 bytes\n",
      "rand                 RandomState    RandomState(MT19937)\n",
      "second_day_minutes   uint16         Shape: ()\n",
      "student_gpas         ndarray        3x4: 12 elems, type `float16`, 24 bytes\n",
      "study_minutes        ndarray        7: 7 elems, type `uint16`, 14 bytes\n",
      "totals               ndarray        4: 4 elems, type `float64`, 32 bytes\n"
     ]
    }
   ],
   "source": [
    "%whos"
   ]
  },
  {
   "cell_type": "code",
   "execution_count": 99,
   "id": "29e28143-dd85-411e-834c-c52f00c9a9ba",
   "metadata": {},
   "outputs": [],
   "source": [
    "study_minutes[0] = 150"
   ]
  },
  {
   "cell_type": "code",
   "execution_count": 100,
   "id": "e88d8838-0d9a-4d96-9780-427ec0f04acb",
   "metadata": {},
   "outputs": [],
   "source": [
    "first_day_minutes = study_minutes[0]"
   ]
  },
  {
   "cell_type": "code",
   "execution_count": 101,
   "id": "17fc459b-d809-40d8-aa55-0c8b8422ca06",
   "metadata": {},
   "outputs": [
    {
     "data": {
      "text/plain": [
       "np.uint16(150)"
      ]
     },
     "execution_count": 101,
     "metadata": {},
     "output_type": "execute_result"
    }
   ],
   "source": [
    "first_day_minutes"
   ]
  },
  {
   "cell_type": "code",
   "execution_count": 102,
   "id": "fa96df21-95ec-44d5-b55f-096432a8bf10",
   "metadata": {},
   "outputs": [
    {
     "data": {
      "text/plain": [
       "numpy.uint16"
      ]
     },
     "execution_count": 102,
     "metadata": {},
     "output_type": "execute_result"
    }
   ],
   "source": [
    "type(first_day_minutes)"
   ]
  },
  {
   "cell_type": "code",
   "execution_count": 103,
   "id": "fe346855-6ddf-40b1-8561-89eb6896d914",
   "metadata": {},
   "outputs": [],
   "source": [
    "study_minutes[1] = 60"
   ]
  },
  {
   "cell_type": "code",
   "execution_count": 104,
   "id": "1fb82723-dab2-4985-8aee-eab29130a613",
   "metadata": {},
   "outputs": [],
   "source": [
    "second_day_minutes = study_minutes[1]"
   ]
  },
  {
   "cell_type": "code",
   "execution_count": 105,
   "id": "67b4cce5-7348-4054-8ff8-76eb1e5d4c5b",
   "metadata": {},
   "outputs": [
    {
     "data": {
      "text/plain": [
       "np.uint16(60)"
      ]
     },
     "execution_count": 105,
     "metadata": {},
     "output_type": "execute_result"
    }
   ],
   "source": [
    "second_day_minutes"
   ]
  },
  {
   "cell_type": "code",
   "execution_count": 106,
   "id": "b91fbae4-e062-437c-acdf-968df12cd47b",
   "metadata": {},
   "outputs": [],
   "source": [
    "study_minutes[2:6] = [80, 60, 30, 90]"
   ]
  },
  {
   "cell_type": "markdown",
   "id": "d3f8b13b-3246-44c7-b5fb-549c53d0f348",
   "metadata": {},
   "source": [
    "## Creation \n",
    "* `np.random` package.  \n",
    "  * `RandomState` lets you seed randomness in a repeatable way\n",
    "* You can append:\n",
    "   * Use the `np.append` method.  Make sure the new row is the same shape\n",
    "   * Create/reassign a new array by including the existing array as part of the iterable in creation (enclose in hard brackets)\n",
    "\n",
    "## Indexing\n",
    "* Use indexing shortcut by separating dimensions with a comma\n",
    "* Index using a `list` or `np.array`.  Values will be pulled out at that specific index (Fancy indexing)"
   ]
  },
  {
   "cell_type": "code",
   "execution_count": 107,
   "id": "232faa8b-4ec9-453c-a086-eb50d2c506f6",
   "metadata": {},
   "outputs": [],
   "source": [
    "study_minutes = np.array([\n",
    "    study_minutes,\n",
    "    np.zeros(7, np.uint16)\n",
    "])"
   ]
  },
  {
   "cell_type": "code",
   "execution_count": 108,
   "id": "7f06cbfa-9cee-4248-8ed7-c05fcbbf9c33",
   "metadata": {},
   "outputs": [
    {
     "data": {
      "text/plain": [
       "(2, 7)"
      ]
     },
     "execution_count": 108,
     "metadata": {},
     "output_type": "execute_result"
    }
   ],
   "source": [
    "study_minutes.shape"
   ]
  },
  {
   "cell_type": "code",
   "execution_count": 109,
   "id": "a0b0acb2-2bcd-4ccd-a989-0d46f700fd84",
   "metadata": {},
   "outputs": [],
   "source": [
    "study_minutes[1][0] = 60"
   ]
  },
  {
   "cell_type": "code",
   "execution_count": 110,
   "id": "0bb08888-aac5-426f-a2d0-0456970579c2",
   "metadata": {},
   "outputs": [
    {
     "data": {
      "text/plain": [
       "array([132, 122, 128,  44, 136, 129, 101], dtype=uint16)"
      ]
     },
     "execution_count": 110,
     "metadata": {},
     "output_type": "execute_result"
    }
   ],
   "source": [
    "rand = np.random.RandomState(42)\n",
    "fake_log = rand.randint(30, 180, size=7, dtype=np.uint16)\n",
    "fake_log"
   ]
  },
  {
   "cell_type": "code",
   "execution_count": 111,
   "id": "7de095c0-8ae1-4cff-b3a7-23d949bdef66",
   "metadata": {},
   "outputs": [
    {
     "data": {
      "text/plain": [
       "[np.uint16(44), np.uint16(136)]"
      ]
     },
     "execution_count": 111,
     "metadata": {},
     "output_type": "execute_result"
    }
   ],
   "source": [
    "[fake_log[3], fake_log[4]]"
   ]
  },
  {
   "cell_type": "code",
   "execution_count": 112,
   "id": "3d2fde9f-70c6-493e-9b16-eef7502a1690",
   "metadata": {},
   "outputs": [
    {
     "data": {
      "text/plain": [
       "array([ 44, 136], dtype=uint16)"
      ]
     },
     "execution_count": 112,
     "metadata": {},
     "output_type": "execute_result"
    }
   ],
   "source": [
    "fake_log[[3, 4]]"
   ]
  },
  {
   "cell_type": "code",
   "execution_count": 113,
   "id": "5f6d2a55-dbcf-4740-b26a-9201b0016cce",
   "metadata": {},
   "outputs": [
    {
     "data": {
      "text/plain": [
       "array([[ 44, 136],\n",
       "       [132, 122]], dtype=uint16)"
      ]
     },
     "execution_count": 113,
     "metadata": {},
     "output_type": "execute_result"
    }
   ],
   "source": [
    "index = np.array([\n",
    "    [3, 4],\n",
    "    [0, 1]\n",
    "])\n",
    "fake_log[index]"
   ]
  },
  {
   "cell_type": "code",
   "execution_count": 114,
   "id": "98365fa2-5747-458f-990f-3fd1e403f2f4",
   "metadata": {},
   "outputs": [
    {
     "data": {
      "text/plain": [
       "array([[150,  60,  80,  60,  30,  90,   0],\n",
       "       [ 60,   0,   0,   0,   0,   0,   0],\n",
       "       [132, 122, 128,  44, 136, 129, 101]], dtype=uint16)"
      ]
     },
     "execution_count": 114,
     "metadata": {},
     "output_type": "execute_result"
    }
   ],
   "source": [
    "study_minutes = np.append(study_minutes, [fake_log], axis=0)\n",
    "study_minutes"
   ]
  },
  {
   "cell_type": "code",
   "execution_count": 115,
   "id": "05eafc63-caf6-4a21-85ca-bf52d6147f25",
   "metadata": {},
   "outputs": [],
   "source": [
    "study_minutes[1, 1] = 360"
   ]
  },
  {
   "cell_type": "markdown",
   "id": "f0ca3a5e-5ed4-446a-891c-ea2a90c9d38d",
   "metadata": {},
   "source": [
    "## Boolean Array Indexing\n",
    "* Create a boolean array by using comparison operators on an array\n",
    "  * Use boolean arrays for fancy indexing\n",
    "  * Boolean arrays can be compared by using bitwise operators (`&`, `|`)\n",
    "      * Do not use the `and` keyword (will result in error)\n",
    "      * Order of operations is important when combining comparisons\n",
    "* Boolean indexing returns a new array, but the existing array can be updated using a boolean index"
   ]
  },
  {
   "cell_type": "code",
   "execution_count": 116,
   "id": "fa031c1e-236a-49d5-8430-e1191e7e8794",
   "metadata": {},
   "outputs": [
    {
     "data": {
      "text/plain": [
       "array([44], dtype=uint16)"
      ]
     },
     "execution_count": 116,
     "metadata": {},
     "output_type": "execute_result"
    }
   ],
   "source": [
    "fake_log[fake_log < 60] "
   ]
  },
  {
   "cell_type": "code",
   "execution_count": 117,
   "id": "62554ba2-1af0-4c1e-9ba7-f9ac95dad27e",
   "metadata": {},
   "outputs": [
    {
     "data": {
      "text/plain": [
       "array([30,  0,  0,  0,  0,  0,  0, 44], dtype=uint16)"
      ]
     },
     "execution_count": 117,
     "metadata": {},
     "output_type": "execute_result"
    }
   ],
   "source": [
    "study_minutes[study_minutes < 60]"
   ]
  },
  {
   "cell_type": "code",
   "execution_count": 118,
   "id": "549c4e52-e1ac-4d28-beab-7971fdc55bec",
   "metadata": {},
   "outputs": [
    {
     "data": {
      "text/plain": [
       "array([False, False,  True])"
      ]
     },
     "execution_count": 118,
     "metadata": {},
     "output_type": "execute_result"
    }
   ],
   "source": [
    "# Output is True if both values in same index spot in different arrays is the same\n",
    "np.array([False, True, True]) & np.array([True, False, True])"
   ]
  },
  {
   "cell_type": "code",
   "execution_count": 119,
   "id": "e20f879b-901c-4854-aa23-690f5cbb5124",
   "metadata": {},
   "outputs": [
    {
     "data": {
      "text/plain": [
       "array([30, 44], dtype=uint16)"
      ]
     },
     "execution_count": 119,
     "metadata": {},
     "output_type": "execute_result"
    }
   ],
   "source": [
    "# Parenthesis for order of operations\n",
    "study_minutes[(study_minutes < 60) & (study_minutes > 0)]"
   ]
  },
  {
   "cell_type": "code",
   "execution_count": 120,
   "id": "a30a3acd-e04e-4cc3-891b-1eb4f8bad9b3",
   "metadata": {},
   "outputs": [],
   "source": [
    "study_minutes[study_minutes < 60] = 0"
   ]
  },
  {
   "cell_type": "code",
   "execution_count": 121,
   "id": "ed5bb1e9-dcbe-4b40-a826-5802b5a4efd3",
   "metadata": {},
   "outputs": [
    {
     "data": {
      "text/plain": [
       "array([[150,  60,  80,  60,   0,  90,   0],\n",
       "       [ 60, 360,   0,   0,   0,   0,   0],\n",
       "       [132, 122, 128,   0, 136, 129, 101]], dtype=uint16)"
      ]
     },
     "execution_count": 121,
     "metadata": {},
     "output_type": "execute_result"
    }
   ],
   "source": [
    "study_minutes"
   ]
  },
  {
   "cell_type": "markdown",
   "id": "a60e46ea-d79b-49e0-b30e-5a8a4dde544f",
   "metadata": {},
   "source": [
    "## Slicing\n",
    "* Similar to normal list slicing\n",
    "* Use commas to separate each dimension slice\n",
    "* Always returns a data view (assuming your slicing an ndarray)\n",
    "* Base object can be accessed using the `ndarray.base` property"
   ]
  },
  {
   "cell_type": "code",
   "execution_count": 122,
   "id": "0cc87a8c-6528-4061-8a9a-3b5949566e81",
   "metadata": {},
   "outputs": [],
   "source": [
    "fruit = ['apple', 'banana', 'cherry', 'blueberry']"
   ]
  },
  {
   "cell_type": "code",
   "execution_count": 123,
   "id": "b38004cf-3b5f-4ece-a534-e8fea5474bff",
   "metadata": {},
   "outputs": [
    {
     "data": {
      "text/plain": [
       "['banana', 'cherry']"
      ]
     },
     "execution_count": 123,
     "metadata": {},
     "output_type": "execute_result"
    }
   ],
   "source": [
    "# Slicing is exclusive (\"up to but not including\")\n",
    "fruit[1:3]"
   ]
  },
  {
   "cell_type": "code",
   "execution_count": 124,
   "id": "b6e2c70c-416a-4a1d-9d91-1129fdf3e72f",
   "metadata": {},
   "outputs": [
    {
     "data": {
      "text/plain": [
       "['apple', 'banana', 'cherry']"
      ]
     },
     "execution_count": 124,
     "metadata": {},
     "output_type": "execute_result"
    }
   ],
   "source": [
    "fruit[:3]"
   ]
  },
  {
   "cell_type": "code",
   "execution_count": 125,
   "id": "56c202c3-68e3-4f2a-b361-c40bd27be4be",
   "metadata": {},
   "outputs": [
    {
     "data": {
      "text/plain": [
       "['blueberry']"
      ]
     },
     "execution_count": 125,
     "metadata": {},
     "output_type": "execute_result"
    }
   ],
   "source": [
    "fruit[3:]"
   ]
  },
  {
   "cell_type": "code",
   "execution_count": 126,
   "id": "7dedddf0-8224-4002-9721-e1ea72f203a4",
   "metadata": {},
   "outputs": [],
   "source": [
    "# Slicing a list returns a copy\n",
    "copied = fruit[:]"
   ]
  },
  {
   "cell_type": "code",
   "execution_count": 127,
   "id": "47709ac7-57b8-4131-880a-a79a3bfba105",
   "metadata": {},
   "outputs": [
    {
     "data": {
      "text/plain": [
       "(['apple', 'banana', 'cherry', 'cheese'],\n",
       " ['apple', 'banana', 'cherry', 'blueberry'])"
      ]
     },
     "execution_count": 127,
     "metadata": {},
     "output_type": "execute_result"
    }
   ],
   "source": [
    "copied[3] = 'cheese'\n",
    "copied, fruit"
   ]
  },
  {
   "cell_type": "code",
   "execution_count": 128,
   "id": "0ac09623-8990-4fae-8b76-abdd640cd2c5",
   "metadata": {},
   "outputs": [
    {
     "data": {
      "text/plain": [
       "['apple', 'cherry']"
      ]
     },
     "execution_count": 128,
     "metadata": {},
     "output_type": "execute_result"
    }
   ],
   "source": [
    "fruit[::2]"
   ]
  },
  {
   "cell_type": "code",
   "execution_count": 129,
   "id": "fc2ee24a-e24a-4093-95eb-009536550d2d",
   "metadata": {},
   "outputs": [
    {
     "data": {
      "text/plain": [
       "['blueberry', 'cherry', 'banana', 'apple']"
      ]
     },
     "execution_count": 129,
     "metadata": {},
     "output_type": "execute_result"
    }
   ],
   "source": [
    "fruit[::-1]"
   ]
  },
  {
   "cell_type": "code",
   "execution_count": 130,
   "id": "f545c458-6d86-4d28-a40c-d3e5a50dc6f2",
   "metadata": {},
   "outputs": [
    {
     "data": {
      "text/plain": [
       "array([ 0,  1,  2,  3,  4,  5,  6,  7,  8,  9, 10, 11, 12, 13, 14, 15, 16,\n",
       "       17, 18, 19])"
      ]
     },
     "execution_count": 130,
     "metadata": {},
     "output_type": "execute_result"
    }
   ],
   "source": [
    "# Operates similar to range but sets range value within an array\n",
    "np.arange(20)"
   ]
  },
  {
   "cell_type": "code",
   "execution_count": 131,
   "id": "8a9d7899-715e-4070-bab6-3b1e3d201484",
   "metadata": {},
   "outputs": [
    {
     "data": {
      "text/plain": [
       "array([[ 0,  1,  2,  3,  4,  5],\n",
       "       [ 6,  7,  8,  9, 10, 11],\n",
       "       [12, 13, 14, 15, 16, 17],\n",
       "       [18, 19, 20, 21, 22, 23],\n",
       "       [24, 25, 26, 27, 28, 29],\n",
       "       [30, 31, 32, 33, 34, 35],\n",
       "       [36, 37, 38, 39, 40, 41]])"
      ]
     },
     "execution_count": 131,
     "metadata": {},
     "output_type": "execute_result"
    }
   ],
   "source": [
    "practice = np.arange(42)\n",
    "practice.shape = (7, 6)\n",
    "practice"
   ]
  },
  {
   "cell_type": "code",
   "execution_count": 132,
   "id": "b610bf88-94b2-4f04-b14f-8daa2f16c305",
   "metadata": {},
   "outputs": [
    {
     "data": {
      "text/plain": [
       "array([[15, 17],\n",
       "       [21, 23],\n",
       "       [27, 29]])"
      ]
     },
     "execution_count": 132,
     "metadata": {},
     "output_type": "execute_result"
    }
   ],
   "source": [
    "practice[2:5, 3::2]"
   ]
  },
  {
   "cell_type": "code",
   "execution_count": 133,
   "id": "2dab6a12-872e-4003-8ce0-308c30186933",
   "metadata": {},
   "outputs": [
    {
     "data": {
      "text/plain": [
       "(array([[90210,     1,     2,     3,     4,     5],\n",
       "        [    6,     7,     8,     9,    10,    11],\n",
       "        [   12,    13,    14,    15,    16,    17],\n",
       "        [   18,    19,    20,    21,    22,    23],\n",
       "        [   24,    25,    26,    27,    28,    29],\n",
       "        [   30,    31,    32,    33,    34,    35],\n",
       "        [   36,    37,    38,    39,    40,    41]]),\n",
       " array([[90210,     1,     2,     3,     4,     5],\n",
       "        [    6,     7,     8,     9,    10,    11],\n",
       "        [   12,    13,    14,    15,    16,    17],\n",
       "        [   18,    19,    20,    21,    22,    23],\n",
       "        [   24,    25,    26,    27,    28,    29],\n",
       "        [   30,    31,    32,    33,    34,    35],\n",
       "        [   36,    37,    38,    39,    40,    41]]))"
      ]
     },
     "execution_count": 133,
     "metadata": {},
     "output_type": "execute_result"
    }
   ],
   "source": [
    "# Any slicing of ndarray return a view, not copy\n",
    "not_copied = practice[:]\n",
    "not_copied[0, 0] = 90210\n",
    "practice, not_copied"
   ]
  },
  {
   "cell_type": "code",
   "execution_count": 134,
   "id": "9566c29f-0ad1-404d-a7dc-92a4f66fd33b",
   "metadata": {},
   "outputs": [
    {
     "data": {
      "text/plain": [
       "True"
      ]
     },
     "execution_count": 134,
     "metadata": {},
     "output_type": "execute_result"
    }
   ],
   "source": [
    "practice.base is None"
   ]
  },
  {
   "cell_type": "code",
   "execution_count": 135,
   "id": "24d3840a-6b2f-4c93-9c52-59ef1446ff9e",
   "metadata": {},
   "outputs": [
    {
     "data": {
      "text/plain": [
       "False"
      ]
     },
     "execution_count": 135,
     "metadata": {},
     "output_type": "execute_result"
    }
   ],
   "source": [
    "not_copied.base is None"
   ]
  },
  {
   "cell_type": "code",
   "execution_count": 136,
   "id": "d6c9f3a1-613a-45ae-af1b-7f142e063803",
   "metadata": {},
   "outputs": [
    {
     "data": {
      "text/plain": [
       "True"
      ]
     },
     "execution_count": 136,
     "metadata": {},
     "output_type": "execute_result"
    }
   ],
   "source": [
    "not_copied.base is practice"
   ]
  },
  {
   "cell_type": "code",
   "execution_count": 137,
   "id": "811ff3d8-d695-4629-ba4f-a35074f4af73",
   "metadata": {},
   "outputs": [
    {
     "data": {
      "text/plain": [
       "(True, False)"
      ]
     },
     "execution_count": 137,
     "metadata": {},
     "output_type": "execute_result"
    }
   ],
   "source": [
    "practice.flags['OWNDATA'], not_copied.flags['OWNDATA']"
   ]
  },
  {
   "cell_type": "markdown",
   "id": "2810ddba-998b-4dc1-b43a-5b83b47eb3d3",
   "metadata": {},
   "source": [
    "## Array Manipulation\n",
    "* Documentation on manipulation is [here](https://numpy.org/doc/stable/reference/routines.array-manipulation.html)\n",
    "* `Unravel` is good for a flattened array view\n",
    "* `Flattened` is good for a copy of the array that is also flattened\n",
    "* `Reshape` creates a view with a new shape"
   ]
  },
  {
   "cell_type": "code",
   "execution_count": 138,
   "id": "d9d6d304-40de-4f71-890a-ace2ff768dcf",
   "metadata": {},
   "outputs": [
    {
     "data": {
      "text/plain": [
       "(array([[90210,     1,     2,     3,     4,     5],\n",
       "        [    6,     7,     8,     9,    10,    11],\n",
       "        [   12,    13,    14,    15,    16,    17],\n",
       "        [   18,    19,    20,    21,    22,    23],\n",
       "        [   24,    25,    26,    27,    28,    29],\n",
       "        [   30,    31,    32,    33,    34,    35],\n",
       "        [   36,    37,    38,    39,    40,    41]]),\n",
       " array([[90210,     1,     2,     3,     4,     5,     6,     7,     8,\n",
       "             9,    10,    11,    12,    13],\n",
       "        [   14,    15,    16,    17,    18,    19,    20,    21,    22,\n",
       "            23,    24,    25,    26,    27],\n",
       "        [   28,    29,    30,    31,    32,    33,    34,    35,    36,\n",
       "            37,    38,    39,    40,    41]]),\n",
       " True)"
      ]
     },
     "execution_count": 138,
     "metadata": {},
     "output_type": "execute_result"
    }
   ],
   "source": [
    "practice_view = practice.reshape(3, 14)\n",
    "practice, practice_view, practice_view.base is practice"
   ]
  },
  {
   "cell_type": "code",
   "execution_count": 139,
   "id": "cbaaabd4-e319-4893-9197-362736e552b8",
   "metadata": {},
   "outputs": [
    {
     "data": {
      "text/plain": [
       "(21, 2)"
      ]
     },
     "execution_count": 139,
     "metadata": {},
     "output_type": "execute_result"
    }
   ],
   "source": [
    "practice.reshape(-1, 2).shape"
   ]
  },
  {
   "cell_type": "code",
   "execution_count": 140,
   "id": "e3b44683-d697-4fe8-b024-d300e2df7a6e",
   "metadata": {},
   "outputs": [
    {
     "data": {
      "text/plain": [
       "array([90210,     1,     2,     3,     4,     5,     6,     7,     8,\n",
       "           9,    10,    11,    12,    13,    14,    15,    16,    17,\n",
       "          18,    19,    20,    21,    22,    23,    24,    25,    26,\n",
       "          27,    28,    29,    30,    31,    32,    33,    34,    35,\n",
       "          36,    37,    38,    39,    40,    41])"
      ]
     },
     "execution_count": 140,
     "metadata": {},
     "output_type": "execute_result"
    }
   ],
   "source": [
    "practice.ravel()"
   ]
  },
  {
   "cell_type": "code",
   "execution_count": 141,
   "id": "0e773150-972a-4250-8a55-0898aafd5e1d",
   "metadata": {
    "scrolled": true
   },
   "outputs": [
    {
     "data": {
      "text/plain": [
       "\u001b[31mSignature:\u001b[39m       np.ravel(a, order=\u001b[33m'C'\u001b[39m)\n",
       "\u001b[31mCall signature:\u001b[39m  np.ravel(*args, **kwargs)\n",
       "\u001b[31mType:\u001b[39m            _ArrayFunctionDispatcher\n",
       "\u001b[31mString form:\u001b[39m     <function ravel at 0x000001C0C2451D00>\n",
       "\u001b[31mFile:\u001b[39m            c:\\users\\blaise\\appdata\\local\\programs\\python\\python313\\lib\\site-packages\\numpy\\_core\\fromnumeric.py\n",
       "\u001b[31mDocstring:\u001b[39m      \n",
       "Return a contiguous flattened array.\n",
       "\n",
       "A 1-D array, containing the elements of the input, is returned.  A copy is\n",
       "made only if needed.\n",
       "\n",
       "As of NumPy 1.10, the returned array will have the same type as the input\n",
       "array. (for example, a masked array will be returned for a masked array\n",
       "input)\n",
       "\n",
       "Parameters\n",
       "----------\n",
       "a : array_like\n",
       "    Input array.  The elements in `a` are read in the order specified by\n",
       "    `order`, and packed as a 1-D array.\n",
       "order : {'C','F', 'A', 'K'}, optional\n",
       "\n",
       "    The elements of `a` are read using this index order. 'C' means\n",
       "    to index the elements in row-major, C-style order,\n",
       "    with the last axis index changing fastest, back to the first\n",
       "    axis index changing slowest.  'F' means to index the elements\n",
       "    in column-major, Fortran-style order, with the\n",
       "    first index changing fastest, and the last index changing\n",
       "    slowest. Note that the 'C' and 'F' options take no account of\n",
       "    the memory layout of the underlying array, and only refer to\n",
       "    the order of axis indexing.  'A' means to read the elements in\n",
       "    Fortran-like index order if `a` is Fortran *contiguous* in\n",
       "    memory, C-like order otherwise.  'K' means to read the\n",
       "    elements in the order they occur in memory, except for\n",
       "    reversing the data when strides are negative.  By default, 'C'\n",
       "    index order is used.\n",
       "\n",
       "Returns\n",
       "-------\n",
       "y : array_like\n",
       "    y is a contiguous 1-D array of the same subtype as `a`,\n",
       "    with shape ``(a.size,)``.\n",
       "    Note that matrices are special cased for backward compatibility,\n",
       "    if `a` is a matrix, then y is a 1-D ndarray.\n",
       "\n",
       "See Also\n",
       "--------\n",
       "ndarray.flat : 1-D iterator over an array.\n",
       "ndarray.flatten : 1-D array copy of the elements of an array\n",
       "                  in row-major order.\n",
       "ndarray.reshape : Change the shape of an array without changing its data.\n",
       "\n",
       "Notes\n",
       "-----\n",
       "In row-major, C-style order, in two dimensions, the row index\n",
       "varies the slowest, and the column index the quickest.  This can\n",
       "be generalized to multiple dimensions, where row-major order\n",
       "implies that the index along the first axis varies slowest, and\n",
       "the index along the last quickest.  The opposite holds for\n",
       "column-major, Fortran-style index ordering.\n",
       "\n",
       "When a view is desired in as many cases as possible, ``arr.reshape(-1)``\n",
       "may be preferable. However, ``ravel`` supports ``K`` in the optional\n",
       "``order`` argument while ``reshape`` does not.\n",
       "\n",
       "Examples\n",
       "--------\n",
       "It is equivalent to ``reshape(-1, order=order)``.\n",
       "\n",
       ">>> import numpy as np\n",
       ">>> x = np.array([[1, 2, 3], [4, 5, 6]])\n",
       ">>> np.ravel(x)\n",
       "array([1, 2, 3, 4, 5, 6])\n",
       "\n",
       ">>> x.reshape(-1)\n",
       "array([1, 2, 3, 4, 5, 6])\n",
       "\n",
       ">>> np.ravel(x, order='F')\n",
       "array([1, 4, 2, 5, 3, 6])\n",
       "\n",
       "When ``order`` is 'A', it will preserve the array's 'C' or 'F' ordering:\n",
       "\n",
       ">>> np.ravel(x.T)\n",
       "array([1, 4, 2, 5, 3, 6])\n",
       ">>> np.ravel(x.T, order='A')\n",
       "array([1, 2, 3, 4, 5, 6])\n",
       "\n",
       "When ``order`` is 'K', it will preserve orderings that are neither 'C'\n",
       "nor 'F', but won't reverse axes:\n",
       "\n",
       ">>> a = np.arange(3)[::-1]; a\n",
       "array([2, 1, 0])\n",
       ">>> a.ravel(order='C')\n",
       "array([2, 1, 0])\n",
       ">>> a.ravel(order='K')\n",
       "array([2, 1, 0])\n",
       "\n",
       ">>> a = np.arange(12).reshape(2,3,2).swapaxes(1,2); a\n",
       "array([[[ 0,  2,  4],\n",
       "        [ 1,  3,  5]],\n",
       "       [[ 6,  8, 10],\n",
       "        [ 7,  9, 11]]])\n",
       ">>> a.ravel(order='C')\n",
       "array([ 0,  2,  4,  1,  3,  5,  6,  8, 10,  7,  9, 11])\n",
       ">>> a.ravel(order='K')\n",
       "array([ 0,  1,  2,  3,  4,  5,  6,  7,  8,  9, 10, 11])\n",
       "\u001b[31mClass docstring:\u001b[39m\n",
       "Class to wrap functions with checks for __array_function__ overrides.\n",
       "\n",
       "All arguments are required, and can only be passed by position.\n",
       "\n",
       "Parameters\n",
       "----------\n",
       "dispatcher : function or None\n",
       "    The dispatcher function that returns a single sequence-like object\n",
       "    of all arguments relevant.  It must have the same signature (except\n",
       "    the default values) as the actual implementation.\n",
       "    If ``None``, this is a ``like=`` dispatcher and the\n",
       "    ``_ArrayFunctionDispatcher`` must be called with ``like`` as the\n",
       "    first (additional and positional) argument.\n",
       "implementation : function\n",
       "    Function that implements the operation on NumPy arrays without\n",
       "    overrides.  Arguments passed calling the ``_ArrayFunctionDispatcher``\n",
       "    will be forwarded to this (and the ``dispatcher``) as if using\n",
       "    ``*args, **kwargs``.\n",
       "\n",
       "Attributes\n",
       "----------\n",
       "_implementation : function\n",
       "    The original implementation passed in."
      ]
     },
     "metadata": {},
     "output_type": "display_data"
    }
   ],
   "source": [
    "np.ravel?"
   ]
  },
  {
   "cell_type": "markdown",
   "id": "18beced0-7625-4b21-bb8e-79c4dbc2d710",
   "metadata": {},
   "source": [
    "## Linear Algebra\n",
    "* NumPy module for linear algebra, [linalg](https://docs.scipy.org/doc/numpy/reference/routines.linalg.html)\n",
    "* Solve for a system of equations using the [solve function](https://docs.scipy.org/doc/numpy/reference/generated/numpy.linalg.solve.html#numpy.linalg.solve)\n",
    "    * It's possible to create a square 2 dimensional matrix and a constant row vector and solve for each variable column\n",
    "    * Double check the answer using the inner product or [dot](https://docs.scipy.org/doc/numpy/reference/generated/numpy.dot.html#numpy.dot).\n",
    "* Use the `@` to produce the dot product of two arrays."
   ]
  },
  {
   "cell_type": "code",
   "execution_count": 142,
   "id": "4202559e-c6d2-45b7-8b60-4aa7ad3957a8",
   "metadata": {},
   "outputs": [
    {
     "data": {
      "text/plain": [
       "array([1.5 , 8.  , 1.25, 2.  ])"
      ]
     },
     "execution_count": 142,
     "metadata": {},
     "output_type": "execute_result"
    }
   ],
   "source": [
    "# columns: tacos, burritos, horchatas, cokes\n",
    "orders = np.array([\n",
    "    [2, 0, 0, 0],\n",
    "    [4, 1, 2, 2],\n",
    "    [0, 1, 0, 1],\n",
    "    [6, 0, 1, 2]\n",
    "])\n",
    "totals = np.array([3, 20.50, 10, 14.25])\n",
    "prices = np.linalg.solve(orders, totals)\n",
    "prices"
   ]
  },
  {
   "cell_type": "code",
   "execution_count": 143,
   "id": "cca59040-a240-413d-a1cc-3c57db9773ce",
   "metadata": {},
   "outputs": [
    {
     "data": {
      "text/plain": [
       "array([ 3.  , 20.5 , 10.  , 14.25])"
      ]
     },
     "execution_count": 143,
     "metadata": {},
     "output_type": "execute_result"
    }
   ],
   "source": [
    "# A * B\n",
    "orders @ prices"
   ]
  },
  {
   "cell_type": "code",
   "execution_count": 144,
   "id": "bdef71e9-6ace-4618-bbb6-9f1b6d5d70df",
   "metadata": {},
   "outputs": [
    {
     "data": {
      "text/plain": [
       "array([ 3.  , 20.5 , 10.  , 14.25])"
      ]
     },
     "execution_count": 144,
     "metadata": {},
     "output_type": "execute_result"
    }
   ],
   "source": [
    "orders.dot(prices)"
   ]
  }
 ],
 "metadata": {
  "kernelspec": {
   "display_name": "Python 3 (ipykernel)",
   "language": "python",
   "name": "python3"
  },
  "language_info": {
   "codemirror_mode": {
    "name": "ipython",
    "version": 3
   },
   "file_extension": ".py",
   "mimetype": "text/x-python",
   "name": "python",
   "nbconvert_exporter": "python",
   "pygments_lexer": "ipython3",
   "version": "3.13.2"
  }
 },
 "nbformat": 4,
 "nbformat_minor": 5
}
